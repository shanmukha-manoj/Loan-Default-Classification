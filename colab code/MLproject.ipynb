{
  "nbformat": 4,
  "nbformat_minor": 0,
  "metadata": {
    "colab": {
      "name": "MLproject.ipynb",
      "provenance": [],
      "collapsed_sections": []
    },
    "kernelspec": {
      "name": "python3",
      "display_name": "Python 3"
    }
  },
  "cells": [
    {
      "cell_type": "code",
      "metadata": {
        "id": "vvSNFzp_sppn",
        "colab_type": "code",
        "colab": {}
      },
      "source": [
        "#importing the libraries\n",
        "import pandas as pd\n",
        "import matplotlib.pyplot as plt\n",
        "import numpy as np"
      ],
      "execution_count": 188,
      "outputs": []
    },
    {
      "cell_type": "code",
      "metadata": {
        "id": "0i_vmg7ltrL-",
        "colab_type": "code",
        "colab": {
          "base_uri": "https://localhost:8080/",
          "height": 278
        },
        "outputId": "bd13ee3f-2655-4b90-e927-9c3c7e16ceb2"
      },
      "source": [
        "#importing the training set\n",
        "train_data = pd.read_csv('credit_train.csv')\n",
        "train_data.head(2)"
      ],
      "execution_count": 189,
      "outputs": [
        {
          "output_type": "execute_result",
          "data": {
            "text/html": [
              "<div>\n",
              "<style scoped>\n",
              "    .dataframe tbody tr th:only-of-type {\n",
              "        vertical-align: middle;\n",
              "    }\n",
              "\n",
              "    .dataframe tbody tr th {\n",
              "        vertical-align: top;\n",
              "    }\n",
              "\n",
              "    .dataframe thead th {\n",
              "        text-align: right;\n",
              "    }\n",
              "</style>\n",
              "<table border=\"1\" class=\"dataframe\">\n",
              "  <thead>\n",
              "    <tr style=\"text-align: right;\">\n",
              "      <th></th>\n",
              "      <th>Loan ID</th>\n",
              "      <th>Customer ID</th>\n",
              "      <th>Loan Status</th>\n",
              "      <th>Current Loan Amount</th>\n",
              "      <th>Term</th>\n",
              "      <th>Credit Score</th>\n",
              "      <th>Annual Income</th>\n",
              "      <th>Years in current job</th>\n",
              "      <th>Home Ownership</th>\n",
              "      <th>Purpose</th>\n",
              "      <th>Monthly Debt</th>\n",
              "      <th>Years of Credit History</th>\n",
              "      <th>Months since last delinquent</th>\n",
              "      <th>Number of Open Accounts</th>\n",
              "      <th>Number of Credit Problems</th>\n",
              "      <th>Current Credit Balance</th>\n",
              "      <th>Maximum Open Credit</th>\n",
              "      <th>Bankruptcies</th>\n",
              "      <th>Tax Liens</th>\n",
              "    </tr>\n",
              "  </thead>\n",
              "  <tbody>\n",
              "    <tr>\n",
              "      <th>0</th>\n",
              "      <td>14dd8831-6af5-400b-83ec-68e61888a048</td>\n",
              "      <td>981165ec-3274-42f5-a3b4-d104041a9ca9</td>\n",
              "      <td>Fully Paid</td>\n",
              "      <td>445412.0</td>\n",
              "      <td>Short Term</td>\n",
              "      <td>709.0</td>\n",
              "      <td>1167493.0</td>\n",
              "      <td>8 years</td>\n",
              "      <td>Home Mortgage</td>\n",
              "      <td>Home Improvements</td>\n",
              "      <td>5214.74</td>\n",
              "      <td>17.2</td>\n",
              "      <td>NaN</td>\n",
              "      <td>6.0</td>\n",
              "      <td>1.0</td>\n",
              "      <td>228190.0</td>\n",
              "      <td>416746.0</td>\n",
              "      <td>1.0</td>\n",
              "      <td>0.0</td>\n",
              "    </tr>\n",
              "    <tr>\n",
              "      <th>1</th>\n",
              "      <td>4771cc26-131a-45db-b5aa-537ea4ba5342</td>\n",
              "      <td>2de017a3-2e01-49cb-a581-08169e83be29</td>\n",
              "      <td>Fully Paid</td>\n",
              "      <td>262328.0</td>\n",
              "      <td>Short Term</td>\n",
              "      <td>NaN</td>\n",
              "      <td>NaN</td>\n",
              "      <td>10+ years</td>\n",
              "      <td>Home Mortgage</td>\n",
              "      <td>Debt Consolidation</td>\n",
              "      <td>33295.98</td>\n",
              "      <td>21.1</td>\n",
              "      <td>8.0</td>\n",
              "      <td>35.0</td>\n",
              "      <td>0.0</td>\n",
              "      <td>229976.0</td>\n",
              "      <td>850784.0</td>\n",
              "      <td>0.0</td>\n",
              "      <td>0.0</td>\n",
              "    </tr>\n",
              "  </tbody>\n",
              "</table>\n",
              "</div>"
            ],
            "text/plain": [
              "                                Loan ID  ... Tax Liens\n",
              "0  14dd8831-6af5-400b-83ec-68e61888a048  ...       0.0\n",
              "1  4771cc26-131a-45db-b5aa-537ea4ba5342  ...       0.0\n",
              "\n",
              "[2 rows x 19 columns]"
            ]
          },
          "metadata": {
            "tags": []
          },
          "execution_count": 189
        }
      ]
    },
    {
      "cell_type": "code",
      "metadata": {
        "id": "x0VaCWRmtyC9",
        "colab_type": "code",
        "colab": {
          "base_uri": "https://localhost:8080/",
          "height": 34
        },
        "outputId": "5f2820bc-7b22-4adc-bdf4-d29c353d969f"
      },
      "source": [
        "#shape of training dataset\n",
        "train_data.shape"
      ],
      "execution_count": 190,
      "outputs": [
        {
          "output_type": "execute_result",
          "data": {
            "text/plain": [
              "(100514, 19)"
            ]
          },
          "metadata": {
            "tags": []
          },
          "execution_count": 190
        }
      ]
    },
    {
      "cell_type": "markdown",
      "metadata": {
        "id": "AYx1_sVwuAbe",
        "colab_type": "text"
      },
      "source": [
        "Note: The training dataset google sheet is having only 100000 samples,   all the last 514 rows are filled with NULL values as default,    so to reduce the error it's better to remove the last 514 NULL rows "
      ]
    },
    {
      "cell_type": "code",
      "metadata": {
        "id": "DTsUu1ait_iI",
        "colab_type": "code",
        "colab": {
          "base_uri": "https://localhost:8080/",
          "height": 34
        },
        "outputId": "1a130565-e58b-4288-9f48-cf09285de692"
      },
      "source": [
        "#removing the last 514 rows from the training dataset\n",
        "lister = [x for x in range(100000,100514)]\n",
        "train_data.drop(lister,inplace = True)\n",
        "print(train_data.shape)"
      ],
      "execution_count": 191,
      "outputs": [
        {
          "output_type": "stream",
          "text": [
            "(100000, 19)\n"
          ],
          "name": "stdout"
        }
      ]
    },
    {
      "cell_type": "code",
      "metadata": {
        "id": "PB5UzCEit5QD",
        "colab_type": "code",
        "colab": {
          "base_uri": "https://localhost:8080/",
          "height": 454
        },
        "outputId": "1057d3ab-0eff-40a3-fb20-f651b15698d8"
      },
      "source": [
        "# training set data analysis\n",
        "train_data.info()"
      ],
      "execution_count": 192,
      "outputs": [
        {
          "output_type": "stream",
          "text": [
            "<class 'pandas.core.frame.DataFrame'>\n",
            "Int64Index: 100000 entries, 0 to 99999\n",
            "Data columns (total 19 columns):\n",
            " #   Column                        Non-Null Count   Dtype  \n",
            "---  ------                        --------------   -----  \n",
            " 0   Loan ID                       100000 non-null  object \n",
            " 1   Customer ID                   100000 non-null  object \n",
            " 2   Loan Status                   100000 non-null  object \n",
            " 3   Current Loan Amount           100000 non-null  float64\n",
            " 4   Term                          100000 non-null  object \n",
            " 5   Credit Score                  80846 non-null   float64\n",
            " 6   Annual Income                 80846 non-null   float64\n",
            " 7   Years in current job          95778 non-null   object \n",
            " 8   Home Ownership                100000 non-null  object \n",
            " 9   Purpose                       100000 non-null  object \n",
            " 10  Monthly Debt                  100000 non-null  float64\n",
            " 11  Years of Credit History       100000 non-null  float64\n",
            " 12  Months since last delinquent  46859 non-null   float64\n",
            " 13  Number of Open Accounts       100000 non-null  float64\n",
            " 14  Number of Credit Problems     100000 non-null  float64\n",
            " 15  Current Credit Balance        100000 non-null  float64\n",
            " 16  Maximum Open Credit           99998 non-null   float64\n",
            " 17  Bankruptcies                  99796 non-null   float64\n",
            " 18  Tax Liens                     99990 non-null   float64\n",
            "dtypes: float64(12), object(7)\n",
            "memory usage: 15.3+ MB\n"
          ],
          "name": "stdout"
        }
      ]
    },
    {
      "cell_type": "code",
      "metadata": {
        "id": "S2mJZp0Kv5g5",
        "colab_type": "code",
        "colab": {
          "base_uri": "https://localhost:8080/",
          "height": 353
        },
        "outputId": "0816753f-81e7-4d32-dd1d-8bc074270cf0"
      },
      "source": [
        "#checking the NULL values in each column\n",
        "train_data.isnull().sum()"
      ],
      "execution_count": 193,
      "outputs": [
        {
          "output_type": "execute_result",
          "data": {
            "text/plain": [
              "Loan ID                             0\n",
              "Customer ID                         0\n",
              "Loan Status                         0\n",
              "Current Loan Amount                 0\n",
              "Term                                0\n",
              "Credit Score                    19154\n",
              "Annual Income                   19154\n",
              "Years in current job             4222\n",
              "Home Ownership                      0\n",
              "Purpose                             0\n",
              "Monthly Debt                        0\n",
              "Years of Credit History             0\n",
              "Months since last delinquent    53141\n",
              "Number of Open Accounts             0\n",
              "Number of Credit Problems           0\n",
              "Current Credit Balance              0\n",
              "Maximum Open Credit                 2\n",
              "Bankruptcies                      204\n",
              "Tax Liens                          10\n",
              "dtype: int64"
            ]
          },
          "metadata": {
            "tags": []
          },
          "execution_count": 193
        }
      ]
    },
    {
      "cell_type": "code",
      "metadata": {
        "id": "f6_Auj4kw1H5",
        "colab_type": "code",
        "colab": {
          "base_uri": "https://localhost:8080/",
          "height": 278
        },
        "outputId": "35584454-10f8-4b87-9b0e-da9c8e1389ce"
      },
      "source": [
        "#importing the test data\n",
        "test_data = pd.read_csv('credit_test.csv')\n",
        "test_data.head(2)"
      ],
      "execution_count": 194,
      "outputs": [
        {
          "output_type": "execute_result",
          "data": {
            "text/html": [
              "<div>\n",
              "<style scoped>\n",
              "    .dataframe tbody tr th:only-of-type {\n",
              "        vertical-align: middle;\n",
              "    }\n",
              "\n",
              "    .dataframe tbody tr th {\n",
              "        vertical-align: top;\n",
              "    }\n",
              "\n",
              "    .dataframe thead th {\n",
              "        text-align: right;\n",
              "    }\n",
              "</style>\n",
              "<table border=\"1\" class=\"dataframe\">\n",
              "  <thead>\n",
              "    <tr style=\"text-align: right;\">\n",
              "      <th></th>\n",
              "      <th>Loan ID</th>\n",
              "      <th>Customer ID</th>\n",
              "      <th>Current Loan Amount</th>\n",
              "      <th>Term</th>\n",
              "      <th>Credit Score</th>\n",
              "      <th>Annual Income</th>\n",
              "      <th>Years in current job</th>\n",
              "      <th>Home Ownership</th>\n",
              "      <th>Purpose</th>\n",
              "      <th>Monthly Debt</th>\n",
              "      <th>Years of Credit History</th>\n",
              "      <th>Months since last delinquent</th>\n",
              "      <th>Number of Open Accounts</th>\n",
              "      <th>Number of Credit Problems</th>\n",
              "      <th>Current Credit Balance</th>\n",
              "      <th>Maximum Open Credit</th>\n",
              "      <th>Bankruptcies</th>\n",
              "      <th>Tax Liens</th>\n",
              "    </tr>\n",
              "  </thead>\n",
              "  <tbody>\n",
              "    <tr>\n",
              "      <th>0</th>\n",
              "      <td>f738779f-c726-40dc-92cf-689d73af533d</td>\n",
              "      <td>ded0b3c3-6bf4-4091-8726-47039f2c1b90</td>\n",
              "      <td>611314.0</td>\n",
              "      <td>Short Term</td>\n",
              "      <td>747.0</td>\n",
              "      <td>2074116.0</td>\n",
              "      <td>10+ years</td>\n",
              "      <td>Home Mortgage</td>\n",
              "      <td>Debt Consolidation</td>\n",
              "      <td>42000.83</td>\n",
              "      <td>21.8</td>\n",
              "      <td>NaN</td>\n",
              "      <td>9.0</td>\n",
              "      <td>0.0</td>\n",
              "      <td>621908.0</td>\n",
              "      <td>1058970.0</td>\n",
              "      <td>0.0</td>\n",
              "      <td>0.0</td>\n",
              "    </tr>\n",
              "    <tr>\n",
              "      <th>1</th>\n",
              "      <td>6dcc0947-164d-476c-a1de-3ae7283dde0a</td>\n",
              "      <td>1630e6e3-34e3-461a-8fda-09297d3140c8</td>\n",
              "      <td>266662.0</td>\n",
              "      <td>Short Term</td>\n",
              "      <td>734.0</td>\n",
              "      <td>1919190.0</td>\n",
              "      <td>10+ years</td>\n",
              "      <td>Home Mortgage</td>\n",
              "      <td>Debt Consolidation</td>\n",
              "      <td>36624.40</td>\n",
              "      <td>19.4</td>\n",
              "      <td>NaN</td>\n",
              "      <td>11.0</td>\n",
              "      <td>0.0</td>\n",
              "      <td>679573.0</td>\n",
              "      <td>904442.0</td>\n",
              "      <td>0.0</td>\n",
              "      <td>0.0</td>\n",
              "    </tr>\n",
              "  </tbody>\n",
              "</table>\n",
              "</div>"
            ],
            "text/plain": [
              "                                Loan ID  ... Tax Liens\n",
              "0  f738779f-c726-40dc-92cf-689d73af533d  ...       0.0\n",
              "1  6dcc0947-164d-476c-a1de-3ae7283dde0a  ...       0.0\n",
              "\n",
              "[2 rows x 18 columns]"
            ]
          },
          "metadata": {
            "tags": []
          },
          "execution_count": 194
        }
      ]
    },
    {
      "cell_type": "code",
      "metadata": {
        "id": "Zq1rlbxixe-0",
        "colab_type": "code",
        "colab": {
          "base_uri": "https://localhost:8080/",
          "height": 34
        },
        "outputId": "296011fc-8214-452a-bf59-3001bc798cdb"
      },
      "source": [
        "# checking the shape of test data\n",
        "test_data.shape"
      ],
      "execution_count": 195,
      "outputs": [
        {
          "output_type": "execute_result",
          "data": {
            "text/plain": [
              "(10353, 18)"
            ]
          },
          "metadata": {
            "tags": []
          },
          "execution_count": 195
        }
      ]
    },
    {
      "cell_type": "markdown",
      "metadata": {
        "id": "nSIwXpBJxl-J",
        "colab_type": "text"
      },
      "source": [
        "Note: The test dataset google sheet is having only 10,000 samples, all the last 353 rows are filled with NULL values as default, so to reduce the error it's better to remove the last 352 NULL rows."
      ]
    },
    {
      "cell_type": "code",
      "metadata": {
        "id": "KPUmCcG0xtiE",
        "colab_type": "code",
        "colab": {
          "base_uri": "https://localhost:8080/",
          "height": 34
        },
        "outputId": "dd62e598-1dbb-40d9-98c0-ec075800c9b9"
      },
      "source": [
        "#removing the last 352 rows from the test dataset\n",
        "lister = [x for x in range(10000,10353)]\n",
        "test_data.drop(lister,inplace = True)\n",
        "print(test_data.shape)"
      ],
      "execution_count": 196,
      "outputs": [
        {
          "output_type": "stream",
          "text": [
            "(10000, 18)\n"
          ],
          "name": "stdout"
        }
      ]
    },
    {
      "cell_type": "code",
      "metadata": {
        "id": "Y3XjZ2Znyd_5",
        "colab_type": "code",
        "colab": {
          "base_uri": "https://localhost:8080/",
          "height": 437
        },
        "outputId": "25c16b60-22c4-4f1f-b7c2-d5f2f30d0cb5"
      },
      "source": [
        "#test set data analysis\n",
        "test_data.info()"
      ],
      "execution_count": 197,
      "outputs": [
        {
          "output_type": "stream",
          "text": [
            "<class 'pandas.core.frame.DataFrame'>\n",
            "Int64Index: 10000 entries, 0 to 9999\n",
            "Data columns (total 18 columns):\n",
            " #   Column                        Non-Null Count  Dtype  \n",
            "---  ------                        --------------  -----  \n",
            " 0   Loan ID                       10000 non-null  object \n",
            " 1   Customer ID                   10000 non-null  object \n",
            " 2   Current Loan Amount           10000 non-null  float64\n",
            " 3   Term                          10000 non-null  object \n",
            " 4   Credit Score                  8019 non-null   float64\n",
            " 5   Annual Income                 8019 non-null   float64\n",
            " 6   Years in current job          9573 non-null   object \n",
            " 7   Home Ownership                10000 non-null  object \n",
            " 8   Purpose                       10000 non-null  object \n",
            " 9   Monthly Debt                  10000 non-null  float64\n",
            " 10  Years of Credit History       10000 non-null  float64\n",
            " 11  Months since last delinquent  4694 non-null   float64\n",
            " 12  Number of Open Accounts       10000 non-null  float64\n",
            " 13  Number of Credit Problems     10000 non-null  float64\n",
            " 14  Current Credit Balance        10000 non-null  float64\n",
            " 15  Maximum Open Credit           10000 non-null  float64\n",
            " 16  Bankruptcies                  9978 non-null   float64\n",
            " 17  Tax Liens                     9999 non-null   float64\n",
            "dtypes: float64(12), object(6)\n",
            "memory usage: 1.4+ MB\n"
          ],
          "name": "stdout"
        }
      ]
    },
    {
      "cell_type": "code",
      "metadata": {
        "id": "kfgf6jQ4ynL-",
        "colab_type": "code",
        "colab": {
          "base_uri": "https://localhost:8080/",
          "height": 336
        },
        "outputId": "797fafb6-a270-4711-8544-e7263ccadac6"
      },
      "source": [
        "#checking the NULL values in each column\n",
        "test_data.isnull().sum()"
      ],
      "execution_count": 198,
      "outputs": [
        {
          "output_type": "execute_result",
          "data": {
            "text/plain": [
              "Loan ID                            0\n",
              "Customer ID                        0\n",
              "Current Loan Amount                0\n",
              "Term                               0\n",
              "Credit Score                    1981\n",
              "Annual Income                   1981\n",
              "Years in current job             427\n",
              "Home Ownership                     0\n",
              "Purpose                            0\n",
              "Monthly Debt                       0\n",
              "Years of Credit History            0\n",
              "Months since last delinquent    5306\n",
              "Number of Open Accounts            0\n",
              "Number of Credit Problems          0\n",
              "Current Credit Balance             0\n",
              "Maximum Open Credit                0\n",
              "Bankruptcies                      22\n",
              "Tax Liens                          1\n",
              "dtype: int64"
            ]
          },
          "metadata": {
            "tags": []
          },
          "execution_count": 198
        }
      ]
    },
    {
      "cell_type": "markdown",
      "metadata": {
        "id": "OZvEJydY4NOT",
        "colab_type": "text"
      },
      "source": [
        "DIMENTIONALITY REDUCTION"
      ]
    },
    {
      "cell_type": "code",
      "metadata": {
        "id": "ahOa7Dxv2wio",
        "colab_type": "code",
        "colab": {
          "base_uri": "https://localhost:8080/",
          "height": 654
        },
        "outputId": "5d16572b-20b0-43a6-e30c-386bd7ec2fde"
      },
      "source": [
        "# Reducing the number of columns by observing the Corelation matrix\n",
        "train_data.corr()"
      ],
      "execution_count": 199,
      "outputs": [
        {
          "output_type": "execute_result",
          "data": {
            "text/html": [
              "<div>\n",
              "<style scoped>\n",
              "    .dataframe tbody tr th:only-of-type {\n",
              "        vertical-align: middle;\n",
              "    }\n",
              "\n",
              "    .dataframe tbody tr th {\n",
              "        vertical-align: top;\n",
              "    }\n",
              "\n",
              "    .dataframe thead th {\n",
              "        text-align: right;\n",
              "    }\n",
              "</style>\n",
              "<table border=\"1\" class=\"dataframe\">\n",
              "  <thead>\n",
              "    <tr style=\"text-align: right;\">\n",
              "      <th></th>\n",
              "      <th>Current Loan Amount</th>\n",
              "      <th>Credit Score</th>\n",
              "      <th>Annual Income</th>\n",
              "      <th>Monthly Debt</th>\n",
              "      <th>Years of Credit History</th>\n",
              "      <th>Months since last delinquent</th>\n",
              "      <th>Number of Open Accounts</th>\n",
              "      <th>Number of Credit Problems</th>\n",
              "      <th>Current Credit Balance</th>\n",
              "      <th>Maximum Open Credit</th>\n",
              "      <th>Bankruptcies</th>\n",
              "      <th>Tax Liens</th>\n",
              "    </tr>\n",
              "  </thead>\n",
              "  <tbody>\n",
              "    <tr>\n",
              "      <th>Current Loan Amount</th>\n",
              "      <td>1.000000</td>\n",
              "      <td>-0.096652</td>\n",
              "      <td>0.013112</td>\n",
              "      <td>-0.006643</td>\n",
              "      <td>0.019282</td>\n",
              "      <td>0.011248</td>\n",
              "      <td>0.001478</td>\n",
              "      <td>-0.002795</td>\n",
              "      <td>0.003880</td>\n",
              "      <td>-0.001271</td>\n",
              "      <td>-0.000608</td>\n",
              "      <td>-0.002048</td>\n",
              "    </tr>\n",
              "    <tr>\n",
              "      <th>Credit Score</th>\n",
              "      <td>-0.096652</td>\n",
              "      <td>1.000000</td>\n",
              "      <td>-0.017078</td>\n",
              "      <td>-0.001674</td>\n",
              "      <td>-0.009720</td>\n",
              "      <td>-0.003739</td>\n",
              "      <td>0.006435</td>\n",
              "      <td>-0.003022</td>\n",
              "      <td>-0.000104</td>\n",
              "      <td>-0.002827</td>\n",
              "      <td>-0.006935</td>\n",
              "      <td>0.005146</td>\n",
              "    </tr>\n",
              "    <tr>\n",
              "      <th>Annual Income</th>\n",
              "      <td>0.013112</td>\n",
              "      <td>-0.017078</td>\n",
              "      <td>1.000000</td>\n",
              "      <td>0.485230</td>\n",
              "      <td>0.161669</td>\n",
              "      <td>-0.077577</td>\n",
              "      <td>0.146175</td>\n",
              "      <td>-0.017006</td>\n",
              "      <td>0.312340</td>\n",
              "      <td>0.053064</td>\n",
              "      <td>-0.047672</td>\n",
              "      <td>0.040167</td>\n",
              "    </tr>\n",
              "    <tr>\n",
              "      <th>Monthly Debt</th>\n",
              "      <td>-0.006643</td>\n",
              "      <td>-0.001674</td>\n",
              "      <td>0.485230</td>\n",
              "      <td>1.000000</td>\n",
              "      <td>0.199289</td>\n",
              "      <td>-0.056818</td>\n",
              "      <td>0.411353</td>\n",
              "      <td>-0.055383</td>\n",
              "      <td>0.481348</td>\n",
              "      <td>0.039268</td>\n",
              "      <td>-0.078979</td>\n",
              "      <td>0.020119</td>\n",
              "    </tr>\n",
              "    <tr>\n",
              "      <th>Years of Credit History</th>\n",
              "      <td>0.019282</td>\n",
              "      <td>-0.009720</td>\n",
              "      <td>0.161669</td>\n",
              "      <td>0.199289</td>\n",
              "      <td>1.000000</td>\n",
              "      <td>-0.044292</td>\n",
              "      <td>0.132349</td>\n",
              "      <td>0.061588</td>\n",
              "      <td>0.208470</td>\n",
              "      <td>0.031124</td>\n",
              "      <td>0.066247</td>\n",
              "      <td>0.017245</td>\n",
              "    </tr>\n",
              "    <tr>\n",
              "      <th>Months since last delinquent</th>\n",
              "      <td>0.011248</td>\n",
              "      <td>-0.003739</td>\n",
              "      <td>-0.077577</td>\n",
              "      <td>-0.056818</td>\n",
              "      <td>-0.044292</td>\n",
              "      <td>1.000000</td>\n",
              "      <td>-0.032569</td>\n",
              "      <td>0.104642</td>\n",
              "      <td>-0.028662</td>\n",
              "      <td>-0.008785</td>\n",
              "      <td>0.123951</td>\n",
              "      <td>0.012624</td>\n",
              "    </tr>\n",
              "    <tr>\n",
              "      <th>Number of Open Accounts</th>\n",
              "      <td>0.001478</td>\n",
              "      <td>0.006435</td>\n",
              "      <td>0.146175</td>\n",
              "      <td>0.411353</td>\n",
              "      <td>0.132349</td>\n",
              "      <td>-0.032569</td>\n",
              "      <td>1.000000</td>\n",
              "      <td>-0.013995</td>\n",
              "      <td>0.228136</td>\n",
              "      <td>0.031341</td>\n",
              "      <td>-0.024575</td>\n",
              "      <td>0.006545</td>\n",
              "    </tr>\n",
              "    <tr>\n",
              "      <th>Number of Credit Problems</th>\n",
              "      <td>-0.002795</td>\n",
              "      <td>-0.003022</td>\n",
              "      <td>-0.017006</td>\n",
              "      <td>-0.055383</td>\n",
              "      <td>0.061588</td>\n",
              "      <td>0.104642</td>\n",
              "      <td>-0.013995</td>\n",
              "      <td>1.000000</td>\n",
              "      <td>-0.112516</td>\n",
              "      <td>-0.012072</td>\n",
              "      <td>0.752942</td>\n",
              "      <td>0.581290</td>\n",
              "    </tr>\n",
              "    <tr>\n",
              "      <th>Current Credit Balance</th>\n",
              "      <td>0.003880</td>\n",
              "      <td>-0.000104</td>\n",
              "      <td>0.312340</td>\n",
              "      <td>0.481348</td>\n",
              "      <td>0.208470</td>\n",
              "      <td>-0.028662</td>\n",
              "      <td>0.228136</td>\n",
              "      <td>-0.112516</td>\n",
              "      <td>1.000000</td>\n",
              "      <td>0.139204</td>\n",
              "      <td>-0.122603</td>\n",
              "      <td>-0.015645</td>\n",
              "    </tr>\n",
              "    <tr>\n",
              "      <th>Maximum Open Credit</th>\n",
              "      <td>-0.001271</td>\n",
              "      <td>-0.002827</td>\n",
              "      <td>0.053064</td>\n",
              "      <td>0.039268</td>\n",
              "      <td>0.031124</td>\n",
              "      <td>-0.008785</td>\n",
              "      <td>0.031341</td>\n",
              "      <td>-0.012072</td>\n",
              "      <td>0.139204</td>\n",
              "      <td>1.000000</td>\n",
              "      <td>-0.014574</td>\n",
              "      <td>-0.001029</td>\n",
              "    </tr>\n",
              "    <tr>\n",
              "      <th>Bankruptcies</th>\n",
              "      <td>-0.000608</td>\n",
              "      <td>-0.006935</td>\n",
              "      <td>-0.047672</td>\n",
              "      <td>-0.078979</td>\n",
              "      <td>0.066247</td>\n",
              "      <td>0.123951</td>\n",
              "      <td>-0.024575</td>\n",
              "      <td>0.752942</td>\n",
              "      <td>-0.122603</td>\n",
              "      <td>-0.014574</td>\n",
              "      <td>1.000000</td>\n",
              "      <td>0.046110</td>\n",
              "    </tr>\n",
              "    <tr>\n",
              "      <th>Tax Liens</th>\n",
              "      <td>-0.002048</td>\n",
              "      <td>0.005146</td>\n",
              "      <td>0.040167</td>\n",
              "      <td>0.020119</td>\n",
              "      <td>0.017245</td>\n",
              "      <td>0.012624</td>\n",
              "      <td>0.006545</td>\n",
              "      <td>0.581290</td>\n",
              "      <td>-0.015645</td>\n",
              "      <td>-0.001029</td>\n",
              "      <td>0.046110</td>\n",
              "      <td>1.000000</td>\n",
              "    </tr>\n",
              "  </tbody>\n",
              "</table>\n",
              "</div>"
            ],
            "text/plain": [
              "                              Current Loan Amount  ...  Tax Liens\n",
              "Current Loan Amount                      1.000000  ...  -0.002048\n",
              "Credit Score                            -0.096652  ...   0.005146\n",
              "Annual Income                            0.013112  ...   0.040167\n",
              "Monthly Debt                            -0.006643  ...   0.020119\n",
              "Years of Credit History                  0.019282  ...   0.017245\n",
              "Months since last delinquent             0.011248  ...   0.012624\n",
              "Number of Open Accounts                  0.001478  ...   0.006545\n",
              "Number of Credit Problems               -0.002795  ...   0.581290\n",
              "Current Credit Balance                   0.003880  ...  -0.015645\n",
              "Maximum Open Credit                     -0.001271  ...  -0.001029\n",
              "Bankruptcies                            -0.000608  ...   0.046110\n",
              "Tax Liens                               -0.002048  ...   1.000000\n",
              "\n",
              "[12 rows x 12 columns]"
            ]
          },
          "metadata": {
            "tags": []
          },
          "execution_count": 199
        }
      ]
    },
    {
      "cell_type": "code",
      "metadata": {
        "id": "BM0df2Fe14gr",
        "colab_type": "code",
        "colab": {
          "base_uri": "https://localhost:8080/",
          "height": 758
        },
        "outputId": "f89413d7-d2b2-484f-a38c-69f3c9d626fe"
      },
      "source": [
        "#Now let's draw a heatmap to have an idea about the correlation\n",
        "import seaborn as sns\n",
        "plt.figure(figsize=(13,10))\n",
        "plt.title(\"Data Correlation\")\n",
        "sns.heatmap(train_data.corr())"
      ],
      "execution_count": 200,
      "outputs": [
        {
          "output_type": "execute_result",
          "data": {
            "text/plain": [
              "<matplotlib.axes._subplots.AxesSubplot at 0x7f8c731926a0>"
            ]
          },
          "metadata": {
            "tags": []
          },
          "execution_count": 200
        },
        {
          "output_type": "display_data",
          "data": {
            "image/png": "[encoded data removed]",
            "text/plain": [
              "<Figure size 936x720 with 2 Axes>"
            ]
          },
          "metadata": {
            "tags": [],
            "needs_background": "light"
          }
        }
      ]
    },
    {
      "cell_type": "code",
      "metadata": {
        "id": "c16t5e5JLiq_",
        "colab_type": "code",
        "colab": {
          "base_uri": "https://localhost:8080/",
          "height": 348
        },
        "outputId": "274f4baa-4cae-4f53-e2c7-ecd425266a87"
      },
      "source": [
        "# making a analysis between Loan Status and Term\n",
        "pd.crosstab(index=train_data['Loan Status'],columns=train_data['Term']).plot(kind='bar')\n",
        "plt.ylabel('Count')"
      ],
      "execution_count": 201,
      "outputs": [
        {
          "output_type": "execute_result",
          "data": {
            "text/plain": [
              "Text(0, 0.5, 'Count')"
            ]
          },
          "metadata": {
            "tags": []
          },
          "execution_count": 201
        },
        {
          "output_type": "display_data",
          "data": {
            "image/png": "[encoded data removed]",
            "text/plain": [
              "<Figure size 432x288 with 1 Axes>"
            ]
          },
          "metadata": {
            "tags": [],
            "needs_background": "light"
          }
        }
      ]
    },
    {
      "cell_type": "markdown",
      "metadata": {
        "id": "b8lqUegeMl7n",
        "colab_type": "text"
      },
      "source": [
        "Observation from the above graph is : Most of the customers who took the short term loan paid completly."
      ]
    },
    {
      "cell_type": "code",
      "metadata": {
        "id": "hAHGeQdbNTB0",
        "colab_type": "code",
        "colab": {
          "base_uri": "https://localhost:8080/",
          "height": 412
        },
        "outputId": "7862934b-6179-45ae-9724-a52b3e17f238"
      },
      "source": [
        "# making a analysis between Loan Status and Purpose\n",
        "pd.crosstab(index=train_data['Loan Status'],columns=train_data['Purpose']).plot(kind='bar')\n",
        "plt.ylabel('Count')\n",
        "plt.figure(figsize=(40,20))"
      ],
      "execution_count": 202,
      "outputs": [
        {
          "output_type": "execute_result",
          "data": {
            "text/plain": [
              "<Figure size 2880x1440 with 0 Axes>"
            ]
          },
          "metadata": {
            "tags": []
          },
          "execution_count": 202
        },
        {
          "output_type": "display_data",
          "data": {
            "image/png": "[encoded data removed]",
            "text/plain": [
              "<Figure size 432x288 with 1 Axes>"
            ]
          },
          "metadata": {
            "tags": [],
            "needs_background": "light"
          }
        },
        {
          "output_type": "display_data",
          "data": {
            "text/plain": [
              "<Figure size 2880x1440 with 0 Axes>"
            ]
          },
          "metadata": {
            "tags": []
          }
        }
      ]
    },
    {
      "cell_type": "markdown",
      "metadata": {
        "id": "c8I1mI3eOW5H",
        "colab_type": "text"
      },
      "source": [
        "most of the customers who took loan for small business paid completly."
      ]
    },
    {
      "cell_type": "code",
      "metadata": {
        "id": "z9XHJFrYOSI3",
        "colab_type": "code",
        "colab": {
          "base_uri": "https://localhost:8080/",
          "height": 365
        },
        "outputId": "e9fe5a22-b775-48d3-9b25-f05ee1d2a394"
      },
      "source": [
        "# making a analysis between Loan Status and Home Ownership\n",
        "pd.crosstab(index=train_data['Loan Status'],columns=train_data['Home Ownership']).plot(kind='bar')\n",
        "plt.ylabel('Count')\n",
        "plt.figure(figsize=(40,20))"
      ],
      "execution_count": 203,
      "outputs": [
        {
          "output_type": "execute_result",
          "data": {
            "text/plain": [
              "<Figure size 2880x1440 with 0 Axes>"
            ]
          },
          "metadata": {
            "tags": []
          },
          "execution_count": 203
        },
        {
          "output_type": "display_data",
          "data": {
            "image/png": "[encoded data removed]",
            "text/plain": [
              "<Figure size 432x288 with 1 Axes>"
            ]
          },
          "metadata": {
            "tags": [],
            "needs_background": "light"
          }
        },
        {
          "output_type": "display_data",
          "data": {
            "text/plain": [
              "<Figure size 2880x1440 with 0 Axes>"
            ]
          },
          "metadata": {
            "tags": []
          }
        }
      ]
    },
    {
      "cell_type": "code",
      "metadata": {
        "id": "o_xN3_Bv3g5F",
        "colab_type": "code",
        "colab": {}
      },
      "source": [
        "# removing some columns from training and test datsets \n",
        "train_data = train_data.drop(columns = ['Loan ID','Customer ID','Years in current job'])\n",
        "test_data = test_data.drop(columns = ['Loan ID','Customer ID','Years in current job'])"
      ],
      "execution_count": 204,
      "outputs": []
    },
    {
      "cell_type": "code",
      "metadata": {
        "id": "DqJF91-q4XO7",
        "colab_type": "code",
        "colab": {
          "base_uri": "https://localhost:8080/",
          "height": 50
        },
        "outputId": "9ab6659c-cf54-4dd7-af33-3634290e6ce6"
      },
      "source": [
        "#shape of the datasets after deleting the columns\n",
        "print(train_data.shape)\n",
        "print(test_data.shape)"
      ],
      "execution_count": 205,
      "outputs": [
        {
          "output_type": "stream",
          "text": [
            "(100000, 16)\n",
            "(10000, 15)\n"
          ],
          "name": "stdout"
        }
      ]
    },
    {
      "cell_type": "markdown",
      "metadata": {
        "id": "mT95Vf2d1HDV",
        "colab_type": "text"
      },
      "source": [
        "Note : In the datasets some columns are Categorical data so those columns must be converted into numbered data.........this can be done just by mapping those strings to numbers."
      ]
    },
    {
      "cell_type": "markdown",
      "metadata": {
        "id": "W2LUgGoF6PS6",
        "colab_type": "text"
      },
      "source": [
        "CONVERTING THE CATEGORICAL DATA INTO NORMAL NUMBERED DATA IN BOTH TRAIN AND TEST DATASETS"
      ]
    },
    {
      "cell_type": "code",
      "metadata": {
        "id": "CUVX89AH1ms3",
        "colab_type": "code",
        "colab": {}
      },
      "source": [
        "#mapping the categorical data in training dataset \n",
        "train_data['Purpose'] = train_data['Purpose'].map({'Home Improvements':0 , 'Debt Consolidation':1 , 'Buy House':2,'other':3,'Business Loan':4, 'Buy a Car':5, 'major_purchase':6, 'Take a Trip':7,\n",
        "       'Other':8, 'small_business':9, 'Medical Bills':10, 'wedding':11, 'vacation':12,\n",
        "       'Educational Expenses':13, 'moving':14, 'renewable_energy':15})\n",
        "\n",
        "train_data['Home Ownership'] = train_data['Home Ownership'].map({'Home Mortgage':0, 'Own Home':1, 'Rent':2, 'HaveMortgage':3})\n",
        "\n",
        "train_data['Term'] = train_data['Term'].map({'Short Term':0,'Long Term':1})\n",
        "\n",
        "train_data['Loan Status'] = train_data['Loan Status'].map({'Fully Paid':0 , 'Charged Off':1}) \n",
        "\n",
        "#mapping the categorical data in test dataset\n",
        "\n",
        "test_data['Purpose'] = test_data['Purpose'].map({'Home Improvements':0 , 'Debt Consolidation':1 , 'Buy House':2,'other':3,'Business Loan':4, 'Buy a Car':5, 'major_purchase':6, 'Take a Trip':7,\n",
        "       'Other':8, 'small_business':9, 'Medical Bills':10, 'wedding':11, 'vacation':12,\n",
        "       'Educational Expenses':13, 'moving':14, 'renewable_energy':15})\n",
        "\n",
        "test_data['Home Ownership'] = test_data['Home Ownership'].map({'Home Mortgage':0, 'Own Home':1, 'Rent':2, 'HaveMortgage':3})\n",
        "\n",
        "test_data['Term'] = test_data['Term'].map({'Short Term':0,'Long Term':1})\n",
        "\n"
      ],
      "execution_count": 206,
      "outputs": []
    },
    {
      "cell_type": "markdown",
      "metadata": {
        "id": "QO4JA3Qk5qX0",
        "colab_type": "text"
      },
      "source": [
        "Note : NULL values are present in both training and test datasets.....so filling of those NULL values should be done before training with the algorithms\n",
        "\n",
        "\n",
        "Note: NULL values of categorical data columns should be filled with MODE and the NULL values in numbered data columns should be filled with MEAN. "
      ]
    },
    {
      "cell_type": "markdown",
      "metadata": {
        "id": "bO2o95ps5xOk",
        "colab_type": "text"
      },
      "source": [
        "FILLING THE NULL VALUES IN TRAINING DATASET"
      ]
    },
    {
      "cell_type": "code",
      "metadata": {
        "id": "leCxvZv16LBd",
        "colab_type": "code",
        "colab": {}
      },
      "source": [
        "# filling the NULL values in Numbered data columns using mean function\n",
        "train_data['Credit Score'] = train_data['Credit Score'].fillna(train_data['Credit Score'].mean())\n",
        "train_data['Annual Income'] = train_data['Annual Income'].fillna(train_data['Annual Income'].mean())\n",
        "train_data['Months since last delinquent'] = train_data['Months since last delinquent'].fillna(train_data['Months since last delinquent'].mean())\n",
        "train_data['Maximum Open Credit'] = train_data['Maximum Open Credit'].fillna(train_data['Maximum Open Credit'].mean())\n",
        "train_data['Bankruptcies'] = train_data['Bankruptcies'].fillna(train_data['Bankruptcies'].mean())\n",
        "train_data['Tax Liens'] = train_data['Tax Liens'].fillna(train_data['Tax Liens'].mean())\n",
        "\n"
      ],
      "execution_count": 207,
      "outputs": []
    },
    {
      "cell_type": "code",
      "metadata": {
        "id": "qVVFz6DQFoV2",
        "colab_type": "code",
        "colab": {
          "base_uri": "https://localhost:8080/",
          "height": 302
        },
        "outputId": "56817913-7418-4ea0-c468-dd986210204e"
      },
      "source": [
        "train_data.isnull().sum()"
      ],
      "execution_count": 208,
      "outputs": [
        {
          "output_type": "execute_result",
          "data": {
            "text/plain": [
              "Loan Status                     0\n",
              "Current Loan Amount             0\n",
              "Term                            0\n",
              "Credit Score                    0\n",
              "Annual Income                   0\n",
              "Home Ownership                  0\n",
              "Purpose                         0\n",
              "Monthly Debt                    0\n",
              "Years of Credit History         0\n",
              "Months since last delinquent    0\n",
              "Number of Open Accounts         0\n",
              "Number of Credit Problems       0\n",
              "Current Credit Balance          0\n",
              "Maximum Open Credit             0\n",
              "Bankruptcies                    0\n",
              "Tax Liens                       0\n",
              "dtype: int64"
            ]
          },
          "metadata": {
            "tags": []
          },
          "execution_count": 208
        }
      ]
    },
    {
      "cell_type": "markdown",
      "metadata": {
        "id": "vCH1URNRMWm9",
        "colab_type": "text"
      },
      "source": [
        "FILLING THE NULL VALUES IN TEST DATASET"
      ]
    },
    {
      "cell_type": "code",
      "metadata": {
        "id": "Ynv4TnJMJZHV",
        "colab_type": "code",
        "colab": {}
      },
      "source": [
        "# filling the NULL values in Numbered data columns using mean function\n",
        "test_data['Credit Score'] = test_data['Credit Score'].fillna(test_data['Credit Score'].mean())\n",
        "test_data['Annual Income'] = test_data['Annual Income'].fillna(test_data['Annual Income'].mean())\n",
        "test_data['Months since last delinquent'] = test_data['Months since last delinquent'].fillna(test_data['Months since last delinquent'].mean())\n",
        "test_data['Bankruptcies'] = test_data['Bankruptcies'].fillna(test_data['Bankruptcies'].mean())\n",
        "test_data['Tax Liens'] = test_data['Tax Liens'].fillna(test_data['Tax Liens'].mean())\n",
        "\n"
      ],
      "execution_count": 209,
      "outputs": []
    },
    {
      "cell_type": "code",
      "metadata": {
        "id": "9IlnsKn3N40S",
        "colab_type": "code",
        "colab": {
          "base_uri": "https://localhost:8080/",
          "height": 286
        },
        "outputId": "e6cc92f4-71b4-4007-8656-37ca7e157dda"
      },
      "source": [
        "test_data.isnull().sum()"
      ],
      "execution_count": 210,
      "outputs": [
        {
          "output_type": "execute_result",
          "data": {
            "text/plain": [
              "Current Loan Amount             0\n",
              "Term                            0\n",
              "Credit Score                    0\n",
              "Annual Income                   0\n",
              "Home Ownership                  0\n",
              "Purpose                         0\n",
              "Monthly Debt                    0\n",
              "Years of Credit History         0\n",
              "Months since last delinquent    0\n",
              "Number of Open Accounts         0\n",
              "Number of Credit Problems       0\n",
              "Current Credit Balance          0\n",
              "Maximum Open Credit             0\n",
              "Bankruptcies                    0\n",
              "Tax Liens                       0\n",
              "dtype: int64"
            ]
          },
          "metadata": {
            "tags": []
          },
          "execution_count": 210
        }
      ]
    },
    {
      "cell_type": "markdown",
      "metadata": {
        "id": "pzzcn-nk2iPy",
        "colab_type": "text"
      },
      "source": [
        "Now after using 'fillna' function both Training and test datasets are having zero NULL values."
      ]
    },
    {
      "cell_type": "markdown",
      "metadata": {
        "id": "a_PeklCeSGTG",
        "colab_type": "text"
      },
      "source": [
        "DIVIDING THE COLUMNS INTO FEATURES AND LABEL"
      ]
    },
    {
      "cell_type": "code",
      "metadata": {
        "id": "5-recktmSF1Z",
        "colab_type": "code",
        "colab": {}
      },
      "source": [
        "#Splitting the columns\n",
        "train_features = train_data.drop(columns = ['Loan Status'])\n",
        "train_label = train_data['Loan Status']"
      ],
      "execution_count": 211,
      "outputs": []
    },
    {
      "cell_type": "markdown",
      "metadata": {
        "id": "nVMnSSwiPrWn",
        "colab_type": "text"
      },
      "source": [
        "NORMALISE THE TRAINING AND TEST DATA FOR BEST ACCURACY"
      ]
    },
    {
      "cell_type": "code",
      "metadata": {
        "id": "SM16NxHkPxQ_",
        "colab_type": "code",
        "colab": {
          "base_uri": "https://localhost:8080/",
          "height": 235
        },
        "outputId": "4519bcb9-c5db-4fda-cd91-74ee0f4e88a4"
      },
      "source": [
        "# normailising the training dataset\n",
        "from sklearn import preprocessing\n",
        "x_norm = preprocessing.normalize(train_features.T)\n",
        "train_features = x_norm.T\n",
        "print(train_features)"
      ],
      "execution_count": 212,
      "outputs": [
        {
          "output_type": "stream",
          "text": [
            "[[4.15616896e-05 0.00000000e+00 1.31237691e-03 ... 1.56538076e-04\n",
            "  8.54020230e-03 0.00000000e+00]\n",
            " [2.44780000e-05 0.00000000e+00 1.99254742e-03 ... 3.19571370e-04\n",
            "  0.00000000e+00 0.00000000e+00]\n",
            " [9.33106634e-03 0.00000000e+00 1.37160972e-03 ... 2.81748704e-04\n",
            "  0.00000000e+00 0.00000000e+00]\n",
            " ...\n",
            " [9.62368868e-06 0.00000000e+00 1.37346075e-03 ... 2.01913707e-04\n",
            "  8.54020230e-03 0.00000000e+00]\n",
            " [4.94856312e-05 0.00000000e+00 1.38086485e-03 ... 2.77302867e-04\n",
            "  0.00000000e+00 0.00000000e+00]\n",
            " [9.33106634e-03 0.00000000e+00 1.37531177e-03 ... 3.41866663e-05\n",
            "  8.54020230e-03 0.00000000e+00]]\n"
          ],
          "name": "stdout"
        }
      ]
    },
    {
      "cell_type": "code",
      "metadata": {
        "id": "7l5DWV8SQGDK",
        "colab_type": "code",
        "colab": {
          "base_uri": "https://localhost:8080/",
          "height": 235
        },
        "outputId": "3ff162b0-bd41-4175-9461-6f28e7f737ca"
      },
      "source": [
        "# normailising the test dataset\n",
        "from sklearn import preprocessing\n",
        "y_norm = preprocessing.normalize(test_data.T)\n",
        "test_data = y_norm.T\n",
        "print(test_data)"
      ],
      "execution_count": 213,
      "outputs": [
        {
          "output_type": "stream",
          "text": [
            "[[1.81604851e-04 0.00000000e+00 4.37724420e-03 ... 5.33732305e-03\n",
            "  0.00000000e+00 0.00000000e+00]\n",
            " [7.92180662e-05 0.00000000e+00 4.30106726e-03 ... 4.55848526e-03\n",
            "  0.00000000e+00 0.00000000e+00]\n",
            " [4.55989149e-05 0.00000000e+00 4.15457315e-03 ... 1.95574331e-03\n",
            "  0.00000000e+00 0.00000000e+00]\n",
            " ...\n",
            " [6.63102466e-05 1.92272142e-02 6.31677662e-03 ... 2.86464612e-03\n",
            "  2.71432858e-02 0.00000000e+00]\n",
            " [2.97072944e-02 0.00000000e+00 4.22489032e-03 ... 1.21294229e-03\n",
            "  0.00000000e+00 0.00000000e+00]\n",
            " [2.97072944e-02 0.00000000e+00 4.38310397e-03 ... 3.06379087e-03\n",
            "  0.00000000e+00 0.00000000e+00]]\n"
          ],
          "name": "stdout"
        }
      ]
    },
    {
      "cell_type": "markdown",
      "metadata": {
        "id": "PC270Bbuwsvr",
        "colab_type": "text"
      },
      "source": [
        "Note : In the test dataset the required label is not given....so to get an idea about train and test accuracies the training dataset is splitted. "
      ]
    },
    {
      "cell_type": "markdown",
      "metadata": {
        "id": "8Vzqx5kVwdOE",
        "colab_type": "text"
      },
      "source": [
        "SPLITTING THE TRAINING DATASET "
      ]
    },
    {
      "cell_type": "code",
      "metadata": {
        "id": "p6DsX8uFeNW2",
        "colab_type": "code",
        "colab": {}
      },
      "source": [
        "#splitting the training dataset \n",
        "from sklearn.model_selection import train_test_split\n",
        "x_train,x_test,y_train,y_test = train_test_split(train_features,train_label,test_size=0.30)"
      ],
      "execution_count": 214,
      "outputs": []
    },
    {
      "cell_type": "code",
      "metadata": {
        "id": "ngn0MqaN0qFN",
        "colab_type": "code",
        "colab": {
          "base_uri": "https://localhost:8080/",
          "height": 118
        },
        "outputId": "ed97550e-1e46-4683-bf90-97e6c8509a7a"
      },
      "source": [
        "# shapes of datasets after splitting\n",
        "print(train_features.shape)\n",
        "print(train_label.shape)\n",
        "print(x_train.shape)\n",
        "print(x_test.shape)\n",
        "print(y_train.shape)\n",
        "print(y_test.shape)"
      ],
      "execution_count": 215,
      "outputs": [
        {
          "output_type": "stream",
          "text": [
            "(100000, 15)\n",
            "(100000,)\n",
            "(70000, 15)\n",
            "(30000, 15)\n",
            "(70000,)\n",
            "(30000,)\n"
          ],
          "name": "stdout"
        }
      ]
    },
    {
      "cell_type": "markdown",
      "metadata": {
        "id": "yEp6wMm1uxBB",
        "colab_type": "text"
      },
      "source": [
        "K NEIGHBOR ALGORITHM "
      ]
    },
    {
      "cell_type": "code",
      "metadata": {
        "id": "jzhyzMOnuwTQ",
        "colab_type": "code",
        "colab": {
          "base_uri": "https://localhost:8080/",
          "height": 296
        },
        "outputId": "1dfacf75-a17a-4fbd-eccb-2daf8cd1f965"
      },
      "source": [
        "# Training the model using KNeighbor algorithm by varying no.of Neighbors from 2 to 9\n",
        "from sklearn.neighbors import KNeighborsClassifier\n",
        "train_acc_array=[]\n",
        "test_acc_array=[]\n",
        "for i in range(2,9):\n",
        "  kmodel = KNeighborsClassifier(n_neighbors = i)\n",
        "  kmodel.fit(x_train,y_train)\n",
        "  pre_train = kmodel.predict(x_train)\n",
        "  train_acc_array.append((pre_train == y_train).sum()/len(y_train))\n",
        "  pre_test = kmodel.predict(x_test)\n",
        "  test_acc_array.append((pre_test == y_test).sum()/len(y_test))\n",
        "\n",
        "\n",
        "# plotting a graph of Training and test accuracies varying the number of neighbours\n",
        "\n",
        "plt.plot(np.arange(2,9) , train_acc_array , label= 'Train_Acc')\n",
        "plt.plot(np.arange(2,9) , test_acc_array , label = 'Test_Acc')\n",
        "plt.xlabel('No. of neighbours')\n",
        "plt.ylabel('Accuracy percent')\n",
        "plt.legend()"
      ],
      "execution_count": 220,
      "outputs": [
        {
          "output_type": "execute_result",
          "data": {
            "text/plain": [
              "<matplotlib.legend.Legend at 0x7f8c7307e5c0>"
            ]
          },
          "metadata": {
            "tags": []
          },
          "execution_count": 220
        },
        {
          "output_type": "display_data",
          "data": {
            "image/png": "[encoded data removed]",
            "text/plain": [
              "<Figure size 432x288 with 1 Axes>"
            ]
          },
          "metadata": {
            "tags": [],
            "needs_background": "light"
          }
        }
      ]
    },
    {
      "cell_type": "code",
      "metadata": {
        "id": "V9b11GkbuQye",
        "colab_type": "code",
        "colab": {
          "base_uri": "https://localhost:8080/",
          "height": 50
        },
        "outputId": "ac66ecb0-1ba5-42dd-ece4-32e792e5b56a"
      },
      "source": [
        "# From the above graph we came to know that the best train and test accuracies are at n=7\n",
        "kmodel = KNeighborsClassifier(n_neighbors= 6)\n",
        "\n",
        "# fit the model\n",
        "kmodel.fit(x_train, y_train)\n",
        "\n",
        "# Calculate and print the scores\n",
        "print(\"Training Accuracy is\", kmodel.score(x_train, y_train))\n",
        "print(\"Test Accuracy is\", kmodel.score(x_test, y_test))\n",
        "\n",
        "# storing these accuracies in some variables\n",
        "kmodel_tr_acc=kmodel.score(x_train,y_train)\n",
        "kmodel_te_acc=kmodel.score(x_test,y_test)"
      ],
      "execution_count": 221,
      "outputs": [
        {
          "output_type": "stream",
          "text": [
            "Training Accuracy is 0.8330857142857143\n",
            "Test Accuracy is 0.8086333333333333\n"
          ],
          "name": "stdout"
        }
      ]
    },
    {
      "cell_type": "markdown",
      "metadata": {
        "id": "7Zp4FfX1PsED",
        "colab_type": "text"
      },
      "source": [
        "After training my model with KNeighbor algorithm the final training and test accuracies are 83.30% and 80.86%"
      ]
    },
    {
      "cell_type": "markdown",
      "metadata": {
        "id": "M9lFSpd205Qm",
        "colab_type": "text"
      },
      "source": [
        "LOGISTIC REGRESSION ALGORITHM"
      ]
    },
    {
      "cell_type": "code",
      "metadata": {
        "id": "p9DBE0h3dM80",
        "colab_type": "code",
        "colab": {
          "base_uri": "https://localhost:8080/",
          "height": 50
        },
        "outputId": "ec5609ef-af7a-4af1-aa84-121aebb9527f"
      },
      "source": [
        "# importing the logistic regression algorithm\n",
        "#importing the algorithm\n",
        "from sklearn.linear_model import LogisticRegression\n",
        "LR = LogisticRegression()\n",
        "\n",
        "# fitting the training data\n",
        "LR.fit(x_train,y_train)\n",
        "\n",
        "# printing the training accuracy and test accuracy\n",
        "print('Training accuracy is',LR.score(x_train,y_train))\n",
        "print('Testing accuracy is',LR.score(x_test,y_test))\n",
        "\n",
        "\n",
        "# storing these accuracies in some variables\n",
        "LR_tr_acc=LR.score(x_train,y_train)\n",
        "LR_te_acc=LR.score(x_test,y_test)"
      ],
      "execution_count": 216,
      "outputs": [
        {
          "output_type": "stream",
          "text": [
            "Training accuracy is 0.774\n",
            "Testing accuracy is 0.7727\n"
          ],
          "name": "stdout"
        }
      ]
    },
    {
      "cell_type": "markdown",
      "metadata": {
        "id": "Yef5Dqun3xX8",
        "colab_type": "text"
      },
      "source": [
        "After training my model with Logistic Regression algorithm the final training and test accuracies are 77.4% and 77.27%\n",
        "\n",
        "Note : The difference between these accuracies is very less which is a good sign to go further."
      ]
    },
    {
      "cell_type": "markdown",
      "metadata": {
        "id": "OsUKEf9q4kXk",
        "colab_type": "text"
      },
      "source": [
        "SVM ALGORITHM"
      ]
    },
    {
      "cell_type": "code",
      "metadata": {
        "id": "GLsfsVX7dIWZ",
        "colab_type": "code",
        "colab": {
          "base_uri": "https://localhost:8080/",
          "height": 50
        },
        "outputId": "ea133655-5ce4-42c1-8434-f14636826a3a"
      },
      "source": [
        "#importing the SVM algorithm \n",
        "from sklearn.svm import SVC\n",
        "SVM = SVC()\n",
        "\n",
        "#fitting the data\n",
        "SVM.fit(x_train,y_train)\n",
        "\n",
        "#printing the accuracies.\n",
        "print(SVM.score(x_train,y_train))\n",
        "print(SVM.score(x_test,y_test))\n",
        "\n",
        "#storing the accuracies in some variables\n",
        "\n",
        "SVM_tr_acc=SVM.score(x_train,y_train)\n",
        "SVM_te_acc=SVM.score(x_test,y_test)"
      ],
      "execution_count": 222,
      "outputs": [
        {
          "output_type": "stream",
          "text": [
            "0.8199428571428572\n",
            "0.8179\n"
          ],
          "name": "stdout"
        }
      ]
    },
    {
      "cell_type": "markdown",
      "metadata": {
        "id": "orTUNr88BEhB",
        "colab_type": "text"
      },
      "source": [
        "After training my model with SVM algorithm the final training and test accuracies are 81.99% and 81.79% \n"
      ]
    },
    {
      "cell_type": "markdown",
      "metadata": {
        "id": "zozI1ip254bu",
        "colab_type": "text"
      },
      "source": [
        "RANDOM FOREST ALGORITHM"
      ]
    },
    {
      "cell_type": "code",
      "metadata": {
        "id": "zciwQSRY57mQ",
        "colab_type": "code",
        "colab": {
          "base_uri": "https://localhost:8080/",
          "height": 50
        },
        "outputId": "eaa015be-7076-494e-91e2-9dfe382af887"
      },
      "source": [
        "#importing RandomForestClassifier\n",
        "\n",
        "from sklearn.ensemble import RandomForestClassifier\n",
        "\n",
        "RFC = RandomForestClassifier(max_depth=2, n_estimators=10, random_state=0)\n",
        "\n",
        "# fitting the data\n",
        "RFC.fit(x_train, y_train)\n",
        "\n",
        "# print the accuracies\n",
        "print('Training Accuracy is',RFC.score(x_train, y_train))\n",
        "print('Test Accuracy is',RFC.score(x_test, y_test))\n",
        "\n",
        "\n",
        "#storing the accuracies in some variables\n",
        "\n",
        "RFC_tr_acc=RFC.score(x_train,y_train)\n",
        "RFC_te_acc=RFC.score(x_test,y_test)"
      ],
      "execution_count": 217,
      "outputs": [
        {
          "output_type": "stream",
          "text": [
            "Training Accuracy is 0.8195857142857143\n",
            "Test Accuracy is 0.8180333333333333\n"
          ],
          "name": "stdout"
        }
      ]
    },
    {
      "cell_type": "markdown",
      "metadata": {
        "id": "gFbLHpkYBTE_",
        "colab_type": "text"
      },
      "source": [
        "After training my model with Random Forest algorithm the final training and test accuracies are 81.95% and 81.80%\n"
      ]
    },
    {
      "cell_type": "markdown",
      "metadata": {
        "id": "TKhE8u7764e6",
        "colab_type": "text"
      },
      "source": [
        "STOCHASTIC GRADIENT DESCENT (SGD)"
      ]
    },
    {
      "cell_type": "code",
      "metadata": {
        "id": "vAdp31cq7rBd",
        "colab_type": "code",
        "colab": {
          "base_uri": "https://localhost:8080/",
          "height": 50
        },
        "outputId": "16f9818c-3bf5-4aa9-d8c0-d3a325027e22"
      },
      "source": [
        "#importing the algorithm\n",
        "from sklearn.linear_model import SGDClassifier\n",
        "SGD = SGDClassifier(loss=\"hinge\", penalty=\"l1\",alpha = 900,max_iter=375)\n",
        "\n",
        "#fitting the data\n",
        "SGD.fit(x_train,y_train)\n",
        "\n",
        "# print the accuracies\n",
        "print('Training Accuracy is',SGD.score(x_train, y_train))\n",
        "print('Test Accuracy is',SGD.score(x_test, y_test))\n",
        "\n",
        "#storing the accuracies in some variables\n",
        "\n",
        "SGD_tr_acc=SGD.score(x_train,y_train)\n",
        "SGD_te_acc=SGD.score(x_test,y_test)"
      ],
      "execution_count": 218,
      "outputs": [
        {
          "output_type": "stream",
          "text": [
            "Training Accuracy is 0.774\n",
            "Test Accuracy is 0.7727\n"
          ],
          "name": "stdout"
        }
      ]
    },
    {
      "cell_type": "markdown",
      "metadata": {
        "id": "Rg1GL4t2Bdpx",
        "colab_type": "text"
      },
      "source": [
        "After training my model with SGD algorithm the final training and test accuracies are 77.4% and 77.27%\n"
      ]
    },
    {
      "cell_type": "markdown",
      "metadata": {
        "id": "Pn4dijOtAgmS",
        "colab_type": "text"
      },
      "source": [
        "COMPARISION BETWEEN THESE ALGORITHMS"
      ]
    },
    {
      "cell_type": "code",
      "metadata": {
        "id": "TRYOmH5ieS-5",
        "colab_type": "code",
        "colab": {}
      },
      "source": [
        "#comparision of algorithm by plotting a bar chart\n",
        "\n",
        "model_names = ['KNeighbor' , 'Logistic Regression' , 'SVM' , 'Random Forest' , 'SGD']\n",
        "tr_acc_list = [kmodel_tr_acc , LR_tr_acc , SVM_tr_acc , RFC_tr_acc , SGD_tr_acc]\n",
        "te_acc_list = [kmodel_te_acc , LR_te_acc , SVM_te_acc , RFC_te_acc , SGD_te_acc]"
      ],
      "execution_count": 227,
      "outputs": []
    },
    {
      "cell_type": "code",
      "metadata": {
        "id": "-7mTJmagQjWP",
        "colab_type": "code",
        "colab": {
          "base_uri": "https://localhost:8080/",
          "height": 444
        },
        "outputId": "a5bf7be7-1f9e-4748-98a2-719853e952bd"
      },
      "source": [
        "#plotting a bar graph\n",
        "plt.figure(figsize=(10,7))\n",
        "ind = np.arange(len(model_names))\n",
        "width = 0.25\n",
        "plt.bar(ind,tr_acc_list, width, label='Train_acc')\n",
        "plt.bar(ind+width,te_acc_list, width, label='Test_acc')\n",
        "plt.ylabel('Accuracy Percent')\n",
        "plt.title('Algorithm vs accuracy')\n",
        "plt.xticks(ind + width / 2, model_names)\n",
        "plt.legend(loc = 'upper right')\n",
        "plt.show()"
      ],
      "execution_count": 251,
      "outputs": [
        {
          "output_type": "display_data",
          "data": {
            "image/png": "[encoded data removed]",
            "text/plain": [
              "<Figure size 720x504 with 1 Axes>"
            ]
          },
          "metadata": {
            "tags": [],
            "needs_background": "light"
          }
        }
      ]
    },
    {
      "cell_type": "code",
      "metadata": {
        "id": "oSopH4KwQ6-o",
        "colab_type": "code",
        "colab": {
          "base_uri": "https://localhost:8080/",
          "height": 428
        },
        "outputId": "0572d7af-be8e-4b7c-94ed-6124d86335b0"
      },
      "source": [
        "plt.figure(figsize=(10,7))\n",
        "plt.plot(model_names,tr_acc_list,label='Train_accuracy')\n",
        "plt.plot(model_names,te_acc_list,label='Test_accuracy')\n",
        "plt.legend(loc = 'upper right')\n",
        "plt.ylabel('Accuracy Percentage')\n",
        "plt.show()"
      ],
      "execution_count": 252,
      "outputs": [
        {
          "output_type": "display_data",
          "data": {
            "image/png": "[encoded data removed]",
            "text/plain": [
              "<Figure size 720x504 with 1 Axes>"
            ]
          },
          "metadata": {
            "tags": [],
            "needs_background": "light"
          }
        }
      ]
    },
    {
      "cell_type": "markdown",
      "metadata": {
        "id": "DyiYj9RFRmu7",
        "colab_type": "text"
      },
      "source": [
        "CONCLUSION :\n",
        "\n",
        "\n",
        "KNeighbor: Training Accuracy - 0.8330   ,     Test Accuracy - 0.8086\n",
        "\n",
        "Logistic Regression: Training Acc - 0.774     ,     Testing Acc - 0.7727\n",
        "\n",
        "SVM: Training acc -  0.8199    ,      Testing acc  - 0.8179\n",
        "\n",
        "RandomForest Classifier: Training Accuracy  -  0.8195, Test Accuracy  - 0.8180\n",
        "\n",
        "SGD: Training Accuracy   -  0.774, Test Accuracy  -  0.7727\n",
        "\n",
        "\n",
        "\n",
        "WE CAN CONCLUDE THAT IF WE TRAIN OUR MODEL WITH KNEIGHBOR WE GET THE BEST ACCURACY\n"
      ]
    },
    {
      "cell_type": "markdown",
      "metadata": {
        "id": "ijDJsy8tR304",
        "colab_type": "text"
      },
      "source": [
        "\n",
        "\n",
        "PREDICTING THE ORIGINAL TEST DATASET WITH KNEIGHBOR"
      ]
    },
    {
      "cell_type": "code",
      "metadata": {
        "id": "rhIg2X2_SDBG",
        "colab_type": "code",
        "colab": {
          "base_uri": "https://localhost:8080/",
          "height": 34
        },
        "outputId": "77515786-e0b6-474d-e4f8-bb169c75d5af"
      },
      "source": [
        "test_output = kmodel.predict(test_data)\n",
        "print(test_output)"
      ],
      "execution_count": 247,
      "outputs": [
        {
          "output_type": "stream",
          "text": [
            "[0 0 0 ... 0 0 0]\n"
          ],
          "name": "stdout"
        }
      ]
    },
    {
      "cell_type": "code",
      "metadata": {
        "id": "XfuPbaA2tzVL",
        "colab_type": "code",
        "colab": {
          "base_uri": "https://localhost:8080/",
          "height": 34
        },
        "outputId": "be666dd6-7dec-4eea-c34f-323b1b191b4a"
      },
      "source": [
        "test_output.shape"
      ],
      "execution_count": 248,
      "outputs": [
        {
          "output_type": "execute_result",
          "data": {
            "text/plain": [
              "(10000,)"
            ]
          },
          "metadata": {
            "tags": []
          },
          "execution_count": 248
        }
      ]
    },
    {
      "cell_type": "code",
      "metadata": {
        "id": "VYfNC1gwu-2e",
        "colab_type": "code",
        "colab": {
          "base_uri": "https://localhost:8080/",
          "height": 34
        },
        "outputId": "a1ab7c23-cbe1-44b4-bce3-292b614cfff7"
      },
      "source": [
        "count=0\n",
        "for i in range(10000):\n",
        "  if (test_output[i] == 0):\n",
        "    count =count + 1\n",
        "print(count)"
      ],
      "execution_count": 249,
      "outputs": [
        {
          "output_type": "stream",
          "text": [
            "9342\n"
          ],
          "name": "stdout"
        }
      ]
    },
    {
      "cell_type": "markdown",
      "metadata": {
        "id": "F56uWpTNv6G7",
        "colab_type": "text"
      },
      "source": [
        "AS PER KNEIGHBOR ALGORITHM PREDICTION......OUT OF 10000 CUSTOMERS IN TEST DATASET    9342    CUSTOMERS WILL PAY COMPLETLY AND THE REMAINING    658     CUSTOMERS WILL NOT PAY THE LOAN BACK."
      ]
    }
  ]
}